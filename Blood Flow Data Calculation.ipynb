{
 "cells": [
  {
   "cell_type": "code",
   "execution_count": 3,
   "metadata": {},
   "outputs": [],
   "source": [
    "# -*- coding:utf-8 -*-"
   ]
  },
  {
   "cell_type": "raw",
   "metadata": {},
   "source": [
    "- MDD group : 10 명 (최대 29 min)\n",
    "    01, 02, 12, 51, 52, 53, 54, 55, 56, 57\n",
    "\n",
    "- Control group :  10 명 (17 min)\n",
    "    03, 04, 05, 06, 07, 08, 09, 10, 13, 14"
   ]
  },
  {
   "cell_type": "code",
   "execution_count": 4,
   "metadata": {},
   "outputs": [],
   "source": [
    "import cv2\n",
    "import os\n",
    "import numpy as np\n",
    "import matplotlib.pyplot as plt\n",
    "import pandas as pd\n",
    "import chart_studio.plotly as py\n",
    "import cufflinks as cf\n",
    "import plotly.offline as plyo\n",
    "import peakutils"
   ]
  },
  {
   "cell_type": "code",
   "execution_count": 5,
   "metadata": {},
   "outputs": [],
   "source": [
    "import chart_studio\n",
    "import plotly.graph_objects as go\n",
    "\n",
    "chart_studio.tools.set_credentials_file(username='dorosi', api_key='L2x3IMvhlfHqaeBCfV0z')"
   ]
  },
  {
   "cell_type": "markdown",
   "metadata": {},
   "source": [
    "## ED extraction"
   ]
  },
  {
   "cell_type": "code",
   "execution_count": 210,
   "metadata": {},
   "outputs": [],
   "source": [
    "def peakfinding_ED(group, num):\n",
    "    \n",
    "    x_axis = np.load('./Ultrasound Imaging Processing_real_update/'+group+'/smoothing_xarray/'+num+'_smoothing_xarray.npy')    \n",
    "    y_axis = np.load('./Ultrasound Imaging Processing_real_update/'+group+'/smoothing_yarray/'+num+'_smoothing_yarray.npy')\n",
    "    \n",
    "    x_arr = np.array(x_axis)\n",
    "    y_arr = np.array(y_axis)\n",
    "    \n",
    "    index = peakutils.indexes(120-y_arr, thres=0.8, min_dist=20)\n",
    "    \n",
    "    peak = y_arr[index]\n",
    "    index = x_arr[index]\n",
    "    \n",
    "    np.save('./Ultrasound Imaging Processing_real_update/'+group+'/EDvelocity_xarray/%s_EDvelocity_xarray' %num, index)\n",
    "    np.save('./Ultrasound Imaging Processing_real_update/'+group+'/EDvelocity_yarray/%s_EDvelocity_yarray' %num, peak)\n",
    "        \n",
    "    #plt.figure(figsize = (20, 6))\n",
    "    #plt.plot(x_axis, y_axis, color=\"#2ECC71\")\n",
    "    #plt.gca().invert_yaxis()\n",
    "    #plt.plot(index, peak, 'o', color='m')\n",
    "    #plt.title('Heart rate over Time')\n",
    "    #plt.xlabel('time(sec)')\n",
    "    #plt.ylabel('speed(cm/s)')\n",
    "    \n",
    "    file_path = \"./Ultrasound Imaging Processing_real_update/\"+group+\"/EDvelocity_graph/\"+num+\"_EDvelocity_graph.html\"\n",
    "\n",
    "    fig = go.Figure()\n",
    "    fig.add_trace(go.Scatter(x=x_axis, y=y_axis, name='original', line=dict(color='#2ECC71', width=1)))\n",
    "    fig.add_trace(go.Scatter(x=index, y=peak, name='based on peak', mode='markers'))\n",
    "    fig.update_layout(xaxis = dict(tickmode = 'linear', tick0 = 0, dtick = 20))\n",
    "    fig.write_html(file_path)"
   ]
  },
  {
   "cell_type": "code",
   "execution_count": 193,
   "metadata": {},
   "outputs": [
    {
     "data": {
      "text/plain": [
       "['14_smoothing_xarray.npy']"
      ]
     },
     "execution_count": 193,
     "metadata": {},
     "output_type": "execute_result"
    }
   ],
   "source": [
    "path = './Ultrasound Imaging Processing_real_update/Normal/smoothing_xarray/'\n",
    "file_list = os.listdir(path)\n",
    "file_list.sort()\n",
    "file_list = file_list[9:10]\n",
    "file_list"
   ]
  },
  {
   "cell_type": "code",
   "execution_count": 211,
   "metadata": {},
   "outputs": [
    {
     "name": "stdout",
     "output_type": "stream",
     "text": [
      "14\n"
     ]
    }
   ],
   "source": [
    "# 하나씩 조정\n",
    "\n",
    "path = './Ultrasound Imaging Processing_real_update/Normal/smoothing_xarray/'\n",
    "file_list = os.listdir(path)\n",
    "file_list.sort()\n",
    "file_list = file_list[9:10]\n",
    "\n",
    "for i in range(len(file_list)):\n",
    "    \n",
    "    y_axis = path + \"/\" + file_list[i]\n",
    "    \n",
    "    num = file_list[i][:2]\n",
    "    \n",
    "    peakfinding_ED(\"Normal\", num)\n",
    "    \n",
    "    print(num)"
   ]
  },
  {
   "cell_type": "markdown",
   "metadata": {},
   "source": [
    "## ED filtering"
   ]
  },
  {
   "cell_type": "code",
   "execution_count": 204,
   "metadata": {},
   "outputs": [],
   "source": [
    "def filtering_EDvelocity(group, num):\n",
    "\n",
    "    x_axis = np.load('./Ultrasound Imaging Processing_real_update/'+group+'/EDvelocity_xarray/'+num+'_EDvelocity_xarray.npy')\n",
    "    y_axis = np.load('./Ultrasound Imaging Processing_real_update/'+group+'/EDvelocity_yarray/'+num+'_EDvelocity_yarray.npy')\n",
    "    \n",
    "    x = np.load('./Ultrasound Imaging Processing_real_update/'+group+'/smoothing_xarray/'+num+'_smoothing_xarray.npy')    \n",
    "    y = np.load('./Ultrasound Imaging Processing_real_update/'+group+'/smoothing_yarray/'+num+'_smoothing_yarray.npy')\n",
    "    \n",
    "    for i in range(len(y_axis)):\n",
    "    \n",
    "        if i < (len(y_axis)-1) :\n",
    "            if abs(x_axis[i]-x_axis[i+1]) < 0.6 :\n",
    "                if y_axis[i] > y_axis[i+1] :\n",
    "                    # 0으로 변환\n",
    "                    x_axis[i] = 0\n",
    "                    y_axis[i] = 0\n",
    "            \n",
    "                else:\n",
    "                    x_axis[i+1] = 0\n",
    "                    y_axis[i+1] = 0\n",
    "    \n",
    "    new_x = []\n",
    "    new_y = []\n",
    "    \n",
    "    # 0인 값만 제외하고 x,y 저장\n",
    "    for i in range(len(y_axis)):\n",
    "    \n",
    "        if y_axis[i] != 0:\n",
    "            new_y.append(y_axis[i])\n",
    "            new_x.append(x_axis[i])\n",
    "    \n",
    "    np.save('./Ultrasound Imaging Processing_real_update/'+group+'/EDvelocity_xarray/%s_EDvelocity_xarray' %num, new_x)\n",
    "    np.save('./Ultrasound Imaging Processing_real_update/'+group+'/EDvelocity_yarray/%s_EDvelocity_yarray' %num, new_y)\n",
    "        \n",
    "    fig = go.Figure()\n",
    "    fig.add_trace(go.Scatter(x=x, y=y, name='original', line=dict(color='#2ECC71', width=1)))\n",
    "    fig.add_trace(go.Scatter(x=new_x, y=new_y, name='based on peak', mode='markers'))\n",
    "    fig.update_layout(xaxis = dict(tickmode = 'linear', tick0 = 0, dtick = 20))\n",
    "    fig.write_html(\"./Ultrasound Imaging Processing_real_update/\"+group+\"/EDvelocity_graph/\"+num+\"_EDvelocity_graph.html\")      "
   ]
  },
  {
   "cell_type": "code",
   "execution_count": 212,
   "metadata": {},
   "outputs": [],
   "source": [
    "# 하나씩 조정\n",
    "\n",
    "path = './Ultrasound Imaging Processing_real_update/Normal/smoothing_yarray/'\n",
    "file_list = os.listdir(path)\n",
    "file_list.sort()\n",
    "file_list = file_list[9:10]\n",
    "\n",
    "for i in range(len(file_list)):\n",
    "    \n",
    "    y_axis = path + \"/\" + file_list[i]\n",
    "    \n",
    "    num = file_list[i][:2]\n",
    "    \n",
    "    filtering_EDvelocity(\"Normal\", num)"
   ]
  },
  {
   "cell_type": "markdown",
   "metadata": {},
   "source": [
    "## PS extraction"
   ]
  },
  {
   "cell_type": "code",
   "execution_count": 206,
   "metadata": {},
   "outputs": [],
   "source": [
    "def find_nearest(array, value):\n",
    "    array = np.asarray(array)\n",
    "    idx = (np.abs(array - value)).argmin()\n",
    "    return idx\n",
    "\n",
    "\n",
    "def find_ps_through_ed(group, num):\n",
    "    \n",
    "    ed_x_axis = np.load('./Ultrasound Imaging Processing_real_update/'+group+'/EDvelocity_xarray/'+num+'_EDvelocity_xarray.npy')\n",
    "    ed_y_axis = np.load('./Ultrasound Imaging Processing_real_update/'+group+'/EDvelocity_yarray/'+num+'_EDvelocity_yarray.npy')\n",
    "    \n",
    "    x_axis = np.load('./Ultrasound Imaging Processing_real_update/'+group+'/smoothing_xarray/'+num+'_smoothing_xarray.npy')\n",
    "    y_axis = np.load('./Ultrasound Imaging Processing_real_update/'+group+'/smoothing_yarray/'+num+'_smoothing_yarray.npy')\n",
    "    \n",
    "    li_x_axis = x_axis.tolist()\n",
    "    li_y_axis = y_axis.tolist()\n",
    "    \n",
    "    round_index = []\n",
    "\n",
    "    for i in range(len(ed_x_axis)):\n",
    "        round_index.append(find_nearest(x_axis, ed_x_axis[i]))           # ed 인덱스 값\n",
    "        \n",
    "    ps_x_axis = []   \n",
    "    ps_y_axis = []\n",
    "\n",
    "    for i in range(len(round_index)-1):\n",
    "        ps_range = y_axis[round_index[i]:round_index[i+1]]\n",
    "        ps = ps_range.max()\n",
    "        ps_x = li_y_axis.index(ps)\n",
    "        #print(ps)\n",
    "        ps_y_axis.append(ps)\n",
    "        ps_x_axis.append(li_x_axis[ps_x])\n",
    "        \n",
    "        \n",
    "    np.save('./Ultrasound Imaging Processing_real_update/'+group+'/PSvelocity_xarray/%s_PSvelocity_xarray' %num, ps_x_axis)\n",
    "    np.save('./Ultrasound Imaging Processing_real_update/'+group+'/PSvelocity_yarray/%s_PSvelocity_yarray' %num, ps_y_axis)    \n",
    "        \n",
    "        \n",
    "    # ED / PS 그래프    \n",
    "    fig = go.Figure()\n",
    "    fig.add_trace(go.Scatter(x=x_axis, y=y_axis, name='smoothing', line=dict(color='#2ECC71', width=1)))\n",
    "    fig.add_trace(go.Scatter(x=ps_x_axis, y=ps_y_axis, name='PS', mode='markers', line=dict(color='#FF6347')))\n",
    "    #fig.add_trace(go.Scatter(x=ed_x_axis, y=ed_y_axis, name='ED', mode='markers', line=dict(color='#8282FF')))\n",
    "    fig.update_layout(xaxis = dict(tickmode = 'linear', tick0 = 0, dtick = 20))\n",
    "    \n",
    "    file_name = \"./Ultrasound Imaging Processing_real_update/\"+group+\"/PSvelocity_graph/\"+num+\"_PSvelocity_graph.html\"\n",
    "    fig.write_html('%s' %file_name)\n",
    "    \n",
    "    #print(len(ps_y_axis))"
   ]
  },
  {
   "cell_type": "code",
   "execution_count": 180,
   "metadata": {},
   "outputs": [
    {
     "data": {
      "text/plain": [
       "['14_smoothing_yarray.npy']"
      ]
     },
     "execution_count": 180,
     "metadata": {},
     "output_type": "execute_result"
    }
   ],
   "source": [
    "path = './Ultrasound Imaging Processing_real_update/Normal/smoothing_yarray/'\n",
    "file_list = os.listdir(path)\n",
    "file_list.sort()\n",
    "file_list[9:10]\n"
   ]
  },
  {
   "cell_type": "code",
   "execution_count": 213,
   "metadata": {},
   "outputs": [],
   "source": [
    "path = './Ultrasound Imaging Processing_real_update/Normal/smoothing_yarray/'\n",
    "file_list = os.listdir(path)\n",
    "file_list.sort()\n",
    "file_list = file_list[9:10]\n",
    "\n",
    "for i in range(len(file_list)):\n",
    "    \n",
    "    y_axis = path + \"/\" + file_list[i]\n",
    "    \n",
    "    num = file_list[i][:2]\n",
    "    \n",
    "    find_ps_through_ed(\"Normal\", num)"
   ]
  },
  {
   "cell_type": "code",
   "execution_count": 208,
   "metadata": {},
   "outputs": [],
   "source": [
    "def PSnED_graph(group, num):\n",
    "    \n",
    "    x_axis = np.load('./Ultrasound Imaging Processing_real_update/'+group+'/smoothing_xarray/'+num+'_smoothing_xarray.npy')\n",
    "    y_axis = np.load('./Ultrasound Imaging Processing_real_update/'+group+'/smoothing_yarray/'+num+'_smoothing_yarray.npy')\n",
    "    \n",
    "    PS_x = np.load('./Ultrasound Imaging Processing_real_update/'+group+'/PSvelocity_xarray/'+num+'_PSvelocity_xarray.npy')\n",
    "    PS_y = np.load('./Ultrasound Imaging Processing_real_update/'+group+'/PSvelocity_yarray/'+num+'_PSvelocity_yarray.npy')\n",
    "    ED_x = np.load('./Ultrasound Imaging Processing_real_update/'+group+'/EDvelocity_xarray/'+num+'_EDvelocity_xarray.npy')\n",
    "    ED_y = np.load('./Ultrasound Imaging Processing_real_update/'+group+'/EDvelocity_yarray/'+num+'_EDvelocity_yarray.npy')\n",
    "    \n",
    "    fig = go.Figure()\n",
    "    fig.add_trace(go.Scatter(x=x_axis, y=y_axis, name='original', line=dict(color='#2ECC71', width=1)))\n",
    "    fig.add_trace(go.Scatter(x=PS_x, y=PS_y, name='PS', mode='markers', line=dict(color='#FF6347')))\n",
    "    fig.add_trace(go.Scatter(x=ED_x, y=ED_y, name='ED', mode='markers', line=dict(color='#8282FF')))\n",
    "    fig.update_layout(xaxis = dict(tickmode = 'linear', tick0 = 0, dtick = 20))\n",
    "    \n",
    "    file_name = \"./Ultrasound Imaging Processing_real_update/\"+group+\"/PSnEDvelocity_graph/\"+num+\"_PSnEDvelocity_graph.html\"\n",
    "    fig.write_html('%s' %file_name)\n",
    "    \n",
    "    print(\"PS velocity 개수 : \", len(PS_x))\n",
    "    print(\"ED velocity 개수 : \", len(ED_x))"
   ]
  },
  {
   "cell_type": "code",
   "execution_count": 200,
   "metadata": {},
   "outputs": [
    {
     "data": {
      "text/plain": [
       "['14_smoothing_yarray.npy']"
      ]
     },
     "execution_count": 200,
     "metadata": {},
     "output_type": "execute_result"
    }
   ],
   "source": [
    "path = './Ultrasound Imaging Processing_real_update/Normal/smoothing_yarray/'\n",
    "file_list = os.listdir(path)\n",
    "file_list.sort()\n",
    "file_list = file_list[9:10]\n",
    "file_list"
   ]
  },
  {
   "cell_type": "code",
   "execution_count": 214,
   "metadata": {},
   "outputs": [
    {
     "name": "stdout",
     "output_type": "stream",
     "text": [
      "PS velocity 개수 :  1647\n",
      "ED velocity 개수 :  1648\n"
     ]
    }
   ],
   "source": [
    "path = './Ultrasound Imaging Processing_real_update/Normal/smoothing_yarray/'\n",
    "file_list = os.listdir(path)\n",
    "file_list.sort()\n",
    "file_list = file_list[9:10]\n",
    "\n",
    "for i in range(len(file_list)):\n",
    "    \n",
    "    y_axis = path + \"/\" + file_list[i]\n",
    "    \n",
    "    num = file_list[i][:2]\n",
    "    \n",
    "    PSnED_graph(\"Normal\", num)"
   ]
  },
  {
   "cell_type": "code",
   "execution_count": 156,
   "metadata": {},
   "outputs": [
    {
     "data": {
      "text/plain": [
       "['13_smoothing_yarray.npy']"
      ]
     },
     "execution_count": 156,
     "metadata": {},
     "output_type": "execute_result"
    }
   ],
   "source": [
    "path = \"D:/kist_storage/Ultrasound Imaging Processing/smoothing_yarray\"\n",
    "file_list = os.listdir(path)\n",
    "file_list = file_list[11:12]\n",
    "file_list"
   ]
  },
  {
   "cell_type": "markdown",
   "metadata": {},
   "source": [
    "## TAMAX"
   ]
  },
  {
   "cell_type": "code",
   "execution_count": 115,
   "metadata": {},
   "outputs": [],
   "source": [
    "from __future__ import print_function\n",
    "\n",
    "import numpy as np\n",
    "from scipy.integrate import simps\n",
    "from numpy import trapz"
   ]
  },
  {
   "cell_type": "code",
   "execution_count": 215,
   "metadata": {},
   "outputs": [],
   "source": [
    "def TAMAX(group, num):\n",
    "    \n",
    "    f = open(\"./Ultrasound Imaging Processing_real_update/\"+group+\"/data_TAMAX/\"+num+\"_TAMAX.txt\", \"w\")\n",
    "\n",
    "    x = np.load('./Ultrasound Imaging Processing_real_update/'+group+'/smoothing_xarray/'+num+'_smoothing_xarray.npy')\n",
    "    y = np.load('./Ultrasound Imaging Processing_real_update/'+group+'/smoothing_yarray/'+num+'_smoothing_yarray.npy')\n",
    "\n",
    "    # ED만 가지고 계산\n",
    "    x_axis = np.load('./Ultrasound Imaging Processing_real_update/'+group+'/EDvelocity_xarray/'+num+'_EDvelocity_xarray.npy')\n",
    "    \n",
    "\n",
    "    k = 0\n",
    "    j = 0\n",
    "    for j in range(len(x_axis)-2):\n",
    "        area_x = x_axis[j:j+2]\n",
    "    \n",
    "        start_index = 0\n",
    "        end_index = 0\n",
    "    \n",
    "        for i in range(len(x)):\n",
    "            if x[i] == area_x[0]:\n",
    "                start_index = i\n",
    "        \n",
    "            if x[i] == area_x[1]:\n",
    "                end_index = i\n",
    "                break\n",
    "        \n",
    "        area_y = y[start_index:end_index]\n",
    "        area = simps(area_y, dx=1)\n",
    "        TAMAX = area/(end_index-start_index)\n",
    "        \n",
    "        f.write(str(TAMAX)+\"\\n\")  \n",
    "        k += 1\n",
    "    \n",
    "    f.close()\n",
    "    \n",
    "    print(\"ED velocity 개수 : \", len(x_axis))\n",
    "    print(\"TAMAX 개수 : \", k)"
   ]
  },
  {
   "cell_type": "code",
   "execution_count": 216,
   "metadata": {},
   "outputs": [
    {
     "data": {
      "text/plain": [
       "['14_smoothing_yarray.npy']"
      ]
     },
     "execution_count": 216,
     "metadata": {},
     "output_type": "execute_result"
    }
   ],
   "source": [
    "path = './Ultrasound Imaging Processing_real_update/Normal/smoothing_yarray/'\n",
    "file_list = os.listdir(path)\n",
    "file_list.sort()\n",
    "file_list = file_list[9:10]\n",
    "file_list"
   ]
  },
  {
   "cell_type": "code",
   "execution_count": 217,
   "metadata": {},
   "outputs": [
    {
     "name": "stdout",
     "output_type": "stream",
     "text": [
      "ED velocity 개수 :  1648\n",
      "TAMAX 개수 :  1646\n"
     ]
    }
   ],
   "source": [
    "path = './Ultrasound Imaging Processing_real_update/Normal/smoothing_yarray/'\n",
    "file_list = os.listdir(path)\n",
    "file_list.sort()\n",
    "file_list = file_list[9:10]\n",
    "\n",
    "for i in range(len(file_list)):\n",
    "    \n",
    "    y_axis = path + \"/\" + file_list[i]\n",
    "    \n",
    "    num = file_list[i][:2]\n",
    "    \n",
    "    TAMAX(\"Normal\", num)"
   ]
  },
  {
   "cell_type": "markdown",
   "metadata": {},
   "source": [
    "## Pulsatility Index (PI)"
   ]
  },
  {
   "cell_type": "code",
   "execution_count": 119,
   "metadata": {},
   "outputs": [],
   "source": [
    "def finding_PI(group, num):\n",
    "    \n",
    "    length = 0\n",
    "    \n",
    "    tamax = []\n",
    "\n",
    "    fr = open(\"./Ultrasound Imaging Processing_real_update/\"+group+\"/data_TAMAX/\"+num+\"_TAMAX.txt\", 'r')\n",
    "    lines = fr.readlines()\n",
    "    for line in lines:\n",
    "        line = line.strip()\n",
    "        line = float(line)\n",
    "        tamax.append(line)\n",
    "    fr.close()\n",
    "    \n",
    "    ed_y_axis = np.load('./Ultrasound Imaging Processing_real_update/'+group+'/EDvelocity_yarray/'+num+'_EDvelocity_yarray.npy')\n",
    "    ps_y_axis = np.load('./Ultrasound Imaging Processing_real_update/'+group+'/PSvelocity_yarray/'+num+'_PSvelocity_yarray.npy')\n",
    "    \n",
    "    if len(ed_y_axis) >= len(ps_y_axis):\n",
    "        length = len(ps_y_axis)\n",
    "    else:\n",
    "        length = len(ed_y_axis)\n",
    "        \n",
    "    fw = open(\"./Ultrasound Imaging Processing_real_update/\"+group+\"/data_PI/\"+num+\"_PI.txt\", \"w\")    \n",
    "    \n",
    "    k = 0\n",
    "    for i in range(length):\n",
    "        \n",
    "        if len(tamax) <= i:\n",
    "            break\n",
    "            \n",
    "        son = ps_y_axis[i]-ed_y_axis[i]\n",
    "        pi = son / tamax[i]                    # tamax 개수만큼 출력\n",
    "        \n",
    "        fw.write(str(pi)+\"\\n\")  \n",
    "        \n",
    "        k += 1\n",
    "        \n",
    "    fw.close()\n",
    "    \n",
    "    print(\"PI 개수 : \", k)"
   ]
  },
  {
   "cell_type": "code",
   "execution_count": 218,
   "metadata": {},
   "outputs": [
    {
     "name": "stdout",
     "output_type": "stream",
     "text": [
      "PI 개수 :  1646\n"
     ]
    }
   ],
   "source": [
    "path = './Ultrasound Imaging Processing_real_update/Normal/smoothing_yarray/'\n",
    "file_list = os.listdir(path)\n",
    "file_list.sort()\n",
    "file_list = file_list[9:10]\n",
    "\n",
    "for i in range(len(file_list)):\n",
    "    \n",
    "    y_axis = path + \"/\" + file_list[i]\n",
    "    \n",
    "    num = file_list[i][:2]\n",
    "    \n",
    "    finding_PI(\"Normal\", num)"
   ]
  },
  {
   "cell_type": "markdown",
   "metadata": {},
   "source": [
    "## AB ratio (Systolic-diastolic ratio)"
   ]
  },
  {
   "cell_type": "code",
   "execution_count": 121,
   "metadata": {},
   "outputs": [],
   "source": [
    "def finding_ABratio(group, num):\n",
    "    \n",
    "    f = open(\"./Ultrasound Imaging Processing_real_update/\"+group+\"/data_ABratio/\"+num+\"_ABratio.txt\", \"w\")\n",
    "\n",
    "    ed_y = np.load(\"./Ultrasound Imaging Processing_real_update/\"+group+\"/EDvelocity_yarray/\"+num+'_EDvelocity_yarray.npy')\n",
    "    ps_y = np.load(\"./Ultrasound Imaging Processing_real_update/\"+group+\"/PSvelocity_yarray/\"+num+'_PSvelocity_yarray.npy')\n",
    "    \n",
    "    \n",
    "    k = 0\n",
    "    for i in range(len(ps_y)):\n",
    "        ab_ratio = ps_y[i] / ed_y[i]\n",
    "        \n",
    "        f.write(str(ab_ratio)+\"\\n\")  \n",
    "        \n",
    "        k += 1\n",
    "    \n",
    "    f.close()\n",
    "    \n",
    "    print(\"AB ratio 개수 : \", k)"
   ]
  },
  {
   "cell_type": "code",
   "execution_count": 219,
   "metadata": {},
   "outputs": [
    {
     "name": "stdout",
     "output_type": "stream",
     "text": [
      "AB ratio 개수 :  1647\n"
     ]
    }
   ],
   "source": [
    "path = './Ultrasound Imaging Processing_real_update/Normal/smoothing_yarray/'\n",
    "file_list = os.listdir(path)\n",
    "file_list.sort()\n",
    "file_list = file_list[9:10]\n",
    "\n",
    "for i in range(len(file_list)):\n",
    "    \n",
    "    y_axis = path + \"/\" + file_list[i]\n",
    "    \n",
    "    num = file_list[i][:2]\n",
    "    \n",
    "    finding_ABratio(\"Normal\", num)"
   ]
  },
  {
   "cell_type": "markdown",
   "metadata": {},
   "source": [
    "## Resistance Index (RI)"
   ]
  },
  {
   "cell_type": "code",
   "execution_count": 123,
   "metadata": {},
   "outputs": [],
   "source": [
    "def finding_RI(group, num):\n",
    "    \n",
    "    f = open(\"./Ultrasound Imaging Processing_real_update/\"+group+\"/data_RI/\"+num+\"_RI.txt\", \"w\")\n",
    "\n",
    "    ed_y = np.load(\"./Ultrasound Imaging Processing_real_update/\"+group+\"/EDvelocity_yarray/\"+num+'_EDvelocity_yarray.npy')\n",
    "    ps_y = np.load(\"./Ultrasound Imaging Processing_real_update/\"+group+\"/PSvelocity_yarray/\"+num+'_PSvelocity_yarray.npy')\n",
    "    \n",
    "    k = 0\n",
    "    for i in range(len(ps_y)):\n",
    "        ri = (ps_y[i]-ed_y[i]) / ps_y[i]\n",
    "        \n",
    "        f.write(str(ri)+\"\\n\")  \n",
    "        \n",
    "        k += 1\n",
    "    \n",
    "    f.close()\n",
    "    \n",
    "    print(\"RI 개수 : \", k)"
   ]
  },
  {
   "cell_type": "code",
   "execution_count": 220,
   "metadata": {},
   "outputs": [
    {
     "name": "stdout",
     "output_type": "stream",
     "text": [
      "RI 개수 :  1647\n"
     ]
    }
   ],
   "source": [
    "path = './Ultrasound Imaging Processing_real_update/Normal/smoothing_yarray/'\n",
    "file_list = os.listdir(path)\n",
    "file_list.sort()\n",
    "file_list = file_list[9:10]\n",
    "\n",
    "for i in range(len(file_list)):\n",
    "    \n",
    "    y_axis = path + \"/\" + file_list[i]\n",
    "    \n",
    "    num = file_list[i][:2]\n",
    "    \n",
    "    finding_RI(\"Normal\", num)"
   ]
  },
  {
   "cell_type": "code",
   "execution_count": null,
   "metadata": {},
   "outputs": [],
   "source": []
  }
 ],
 "metadata": {
  "kernelspec": {
   "display_name": "Python 3 (ipykernel)",
   "language": "python",
   "name": "python3"
  },
  "language_info": {
   "codemirror_mode": {
    "name": "ipython",
    "version": 3
   },
   "file_extension": ".py",
   "mimetype": "text/x-python",
   "name": "python",
   "nbconvert_exporter": "python",
   "pygments_lexer": "ipython3",
   "version": "3.9.7"
  }
 },
 "nbformat": 4,
 "nbformat_minor": 4
}
